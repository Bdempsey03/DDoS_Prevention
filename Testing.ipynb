{
 "cells": [
  {
   "cell_type": "code",
   "execution_count": 1,
   "id": "29801372-cf1e-4af0-bd8f-ccda77152732",
   "metadata": {},
   "outputs": [],
   "source": [
    "\n",
    "# importing modules \n",
    "import numpy as np \n",
    "import pandas as pd \n",
    "import tensorflow as tf \n",
    "import matplotlib.pyplot as plt \n",
    "from sklearn.preprocessing import OneHotEncoder "
   ]
  },
  {
   "cell_type": "code",
   "execution_count": 2,
   "id": "c1f8e478-b94d-43be-984e-5c0b964eea97",
   "metadata": {},
   "outputs": [
    {
     "name": "stdout",
     "output_type": "stream",
     "text": [
      "Data Shape: (100, 4)\n",
      "   0    1    2  3\n",
      "0  0  5.1  3.5  1\n",
      "1  1  4.9  3.0  1\n",
      "2  2  4.7  3.2  1\n",
      "3  3  4.6  3.1  1\n",
      "4  4  5.0  3.6  1\n"
     ]
    }
   ],
   "source": [
    "data = pd.read_csv('dataset.csv', header = None) \n",
    "print(\"Data Shape:\", data.shape) \n",
    "  \n",
    "print(data.head()) "
   ]
  },
  {
   "cell_type": "code",
   "execution_count": 3,
   "id": "4e80218b-99c7-4d79-99a3-ca700048d277",
   "metadata": {},
   "outputs": [
    {
     "name": "stdout",
     "output_type": "stream",
     "text": [
      "Shape of Feature Matrix: (100, 2)\n",
      "Shape Label Vector: (100, 1)\n"
     ]
    }
   ],
   "source": [
    "# Feature Matrix \n",
    "x_orig = data.iloc[:, 1:-1].values \n",
    "  \n",
    "# Data labels \n",
    "y_orig = data.iloc[:, -1:].values \n",
    "  \n",
    "print(\"Shape of Feature Matrix:\", x_orig.shape) \n",
    "print(\"Shape Label Vector:\", y_orig.shape) "
   ]
  },
  {
   "cell_type": "code",
   "execution_count": null,
   "id": "5b2beb5f-6a9c-4916-9a5f-bcc420fd0fc8",
   "metadata": {},
   "outputs": [],
   "source": []
  }
 ],
 "metadata": {
  "kernelspec": {
   "display_name": "Python 3 (ipykernel)",
   "language": "python",
   "name": "python3"
  },
  "language_info": {
   "codemirror_mode": {
    "name": "ipython",
    "version": 3
   },
   "file_extension": ".py",
   "mimetype": "text/x-python",
   "name": "python",
   "nbconvert_exporter": "python",
   "pygments_lexer": "ipython3",
   "version": "3.12.3"
  }
 },
 "nbformat": 4,
 "nbformat_minor": 5
}
